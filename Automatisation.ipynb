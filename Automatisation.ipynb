{
  "nbformat": 4,
  "nbformat_minor": 0,
  "metadata": {
    "colab": {
      "provenance": [],
      "mount_file_id": "1G54_b7XIugZbr28hS3-3p3maPsL6aReU",
      "authorship_tag": "ABX9TyPMjHLkrglSu6+CV6PNfI9V",
      "include_colab_link": true
    },
    "kernelspec": {
      "name": "python3",
      "display_name": "Python 3"
    },
    "language_info": {
      "name": "python"
    }
  },
  "cells": [
    {
      "cell_type": "markdown",
      "metadata": {
        "id": "view-in-github",
        "colab_type": "text"
      },
      "source": [
        "<a href=\"https://colab.research.google.com/github/CharlemagneBrain/ECG_Image_Preprocessing/blob/main/Automatisation.ipynb\" target=\"_parent\"><img src=\"https://colab.research.google.com/assets/colab-badge.svg\" alt=\"Open In Colab\"/></a>"
      ]
    },
    {
      "cell_type": "code",
      "execution_count": 3,
      "metadata": {
        "id": "PJ31rhkWN82U"
      },
      "outputs": [],
      "source": [
        "import matplotlib.pyplot as plt\n",
        "import cv2 \n",
        "import numpy as np\n",
        "import pandas as pd\n",
        "import os"
      ]
    },
    {
      "cell_type": "code",
      "source": [
        "def get_derivations(image):\n",
        "    \n",
        "    lead_names = [\n",
        "        \"lead_1\", \"lead_avr\", \"lead_v1\", \"lead_v4\", \"lead_2\", \"lead_avl\", \n",
        "        \"lead_v2\", \"lead_v5\", \"lead_3\", \"lead_avf\", \"lead_v3\", \"lead_v6\"\n",
        "      ]\n",
        "    derivations = {}\n",
        "    \n",
        "    for i, lead_name in enumerate(lead_names):\n",
        "        row = int(i/4)\n",
        "        col = i%4\n",
        "        derivations[lead_name] = image[row*40:(row+1)*40, col*65:(col+1)*65]\n",
        "    return derivations\n",
        "\n",
        "\n",
        "def get_vector(lead):\n",
        "\n",
        "  lead_sup = lead[14:, :]\n",
        "  lead_inf = lead[0:14:, :]\n",
        "\n",
        "\n",
        "  lead_inf_sum_col = [ sum(x) for x in zip(*lead_inf) ]\n",
        "  lead_sup_sum_col = [ sum(x) for x in zip(*lead_sup) ]\n",
        "\n",
        "  neg_lead = [element * -1 for element in lead_inf_sum_col]\n",
        "  original = np.vstack((lead_sup_sum_col, neg_lead))\n",
        "\n",
        "  final = [ sum(x) for x in zip(*original) ]\n",
        "  return final\n",
        "\n",
        "def get_vectors(derivations):\n",
        "  vectors = {}\n",
        "  for name, derivation in derivations.items():\n",
        "    vector = get_vector(derivation)\n",
        "    vectors[name] = vector\n",
        "  return vectors\n",
        "\n",
        "def process_vectors(input_dir, output_dir):\n",
        "    \n",
        "    COORDINATES = [60, 180, 30, 300]\n",
        "    # Liste des noms de dérivations\n",
        "    lead_names = [\n",
        "        \"lead_1\", \"lead_avr\", \"lead_v1\", \"lead_v4\", \"lead_2\", \"lead_avl\", \n",
        "        \"lead_v2\", \"lead_v5\", \"lead_3\", \"lead_avf\", \"lead_v3\", \"lead_v6\"\n",
        "    ]\n",
        "   \n",
        "    if not os.path.exists(output_dir):\n",
        "        os.makedirs(output_dir)\n",
        "\n",
        "    for file in os.listdir(input_dir):\n",
        "        # Vérifie si le fichier est une image\n",
        "        if file.endswith(\".jpeg\") or file.endswith(\".jpg\"):\n",
        "            path = os.path.join(input_dir, file)\n",
        "            ecg = cv2.imread(path)\n",
        "            if ecg is None:\n",
        "                print(\"Erreur : Image {} introuvable ou impossible à lire.\".format(file))\n",
        "                continue\n",
        "\n",
        "            ecg = ecg[COORDINATES[0]:COORDINATES[1], COORDINATES[2]:COORDINATES[3]]\n",
        "            gray = cv2.cvtColor(ecg, cv2.COLOR_BGR2GRAY)\n",
        "            ret,th = cv2.threshold(gray,180,255,cv2.THRESH_BINARY)\n",
        "           \n",
        "            derivations = get_derivations(th)\n",
        "            vectors = get_vectors(derivations)\n",
        "            \n",
        "            img_dir = os.path.join(output_dir, file)\n",
        "            os.makedirs(img_dir)\n",
        "\n",
        "            for name, vector in vectors.items():\n",
        "                np.savetxt(os.path.join(img_dir, name + \".csv\"), vector, delimiter=\",\")\n"
      ],
      "metadata": {
        "id": "ZSp9FB8SZCUu"
      },
      "execution_count": 10,
      "outputs": []
    },
    {
      "cell_type": "code",
      "source": [
        "process_vectors(input_dir=\"/content/drive/MyDrive/ecg_normal/\", output_dir=\"/content/drive/MyDrive/vectors/\")"
      ],
      "metadata": {
        "id": "5w6GXvFfdoft"
      },
      "execution_count": 11,
      "outputs": []
    },
    {
      "cell_type": "code",
      "source": [
        "lead_2 = pd.read_csv(\"/content/drive/MyDrive/vectors/normal.jpeg/lead_2.csv\")\n",
        "plt.plot(lead_2);"
      ],
      "metadata": {
        "colab": {
          "base_uri": "https://localhost:8080/",
          "height": 265
        },
        "id": "NeSvAHz9efmJ",
        "outputId": "9f65887b-898b-49e8-b9b4-c64a64ba46ae"
      },
      "execution_count": 15,
      "outputs": [
        {
          "output_type": "display_data",
          "data": {
            "text/plain": [
              "<Figure size 432x288 with 1 Axes>"
            ],
            "image/png": "[encoded data removed]"
          },
          "metadata": {
            "needs_background": "light"
          }
        }
      ]
    },
    {
      "cell_type": "code",
      "source": [],
      "metadata": {
        "id": "GWgG9PeffIOm"
      },
      "execution_count": null,
      "outputs": []
    }
  ]
}