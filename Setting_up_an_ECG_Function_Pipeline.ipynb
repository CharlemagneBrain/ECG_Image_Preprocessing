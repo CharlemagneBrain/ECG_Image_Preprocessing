{
  "nbformat": 4,
  "nbformat_minor": 0,
  "metadata": {
    "colab": {
      "provenance": [],
      "collapsed_sections": [],
      "authorship_tag": "ABX9TyPVGrxxyxeadRJfFBOnmJKW",
      "include_colab_link": true
    },
    "kernelspec": {
      "name": "python3",
      "display_name": "Python 3"
    },
    "language_info": {
      "name": "python"
    }
  },
  "cells": [
    {
      "cell_type": "markdown",
      "metadata": {
        "id": "view-in-github",
        "colab_type": "text"
      },
      "source": [
        "<a href=\"https://colab.research.google.com/github/CharlemagneBrain/ECG_Image_Preprocessing/blob/main/Setting_up_an_ECG_Function_Pipeline.ipynb\" target=\"_parent\"><img src=\"https://colab.research.google.com/assets/colab-badge.svg\" alt=\"Open In Colab\"/></a>"
      ]
    },
    {
      "cell_type": "markdown",
      "source": [
        "Traitement des images d'électrocardiogrammes pour la Prédiction de fibrillation Auriculaire sur une population porteuse de Pacemakers.\n",
        "\n",
        "- Rogner l'image\n",
        "- Extraction des dérivations concernées par la fibrillation auriculaire\n",
        "- Transformation en nuance de gris : lissage, seuillage Otsu\n",
        "- Création d'images binaires avec une bonne valeure de seuil\n",
        "Passer les valeurs booléennes de l'image binaire au numérique (True/False => 0/1)\n",
        "- Réunion des deux images (des deux dérivations v1 et d2) en une seule image\n",
        "\n",
        "Nous allons nous baser sur ces images pour entrainer un modèle afin de trouver les caractéristiques essentielles à la prédiction de la fibrillation auriculaire.\n",
        "Tout d'abord nous allons réflèchir à une architecture de notre modèle.\n",
        "- NB : les traits verticaux présents sur l'électrocardiogramme représente du bruit qui n'a pas pu être défait malgré les opérations de traitement d'image morphologique\n",
        "\n",
        "Nous serions amener à penser qu'une architecture CRNN serait bien conforme au type de problème auquel nous nous confrontons car nos données finales seront des images binaires, et l'anomalie que nous voulons prédire à l'instant T sur des données à temps réelles se bases sur les données à l'instant T-1(series temporelles)."
      ],
      "metadata": {
        "id": "o4QxnmZtVKqT"
      }
    },
    {
      "cell_type": "code",
      "source": [
        "# Librairies\n",
        "!apt-get install poppler-utils \n",
        "\n",
        "\n",
        "import matplotlib.pyplot as plt\n",
        "import cv2 as cv\n",
        "import numpy as np\n",
        "import pandas as pd\n",
        "from skimage.filters import threshold_otsu,gaussian\n",
        "from skimage.transform import resize\n",
        "from numpy import asarray\n",
        "from skimage import color\n",
        "\n",
        "def boolstr_to_floatstr(v):\n",
        "    if v == 'True':\n",
        "        return '1'\n",
        "    elif v == 'False':\n",
        "        return '0'\n",
        "    else:\n",
        "        return v\n",
        "\n",
        "def preprocessing_ecg(ecg):\n",
        "\n",
        "  ecg = ecg[600:2500, 350:3300]\n",
        "  v1 = ecg[100:320,1460:2160]\n",
        "  d2 = ecg[300:520,0:700]\n",
        "  derivations = [v1, d2]\n",
        "\n",
        "  #convertir en nuance de gris\n",
        "  grayscale_v1 = color.rgb2gray(derivations[0])\n",
        "  grayscale_d2 = color.rgb2gray(derivations[1])\n",
        "\n",
        "  # Lissage de l'image : consiste simplement à ** rendre l'image floue **. \n",
        "  # On peut également dire que le flou de l'image adoucit le changement de valeur de pixel\n",
        "  # Le lissage peut éliminer ou rendre les bords moins visibles.\n",
        "\n",
        "  blurred_image_v1 = gaussian(grayscale_v1, sigma=3.5)\n",
        "  blurred_image_d2 = gaussian(grayscale_d2, sigma=3.5) \n",
        "\n",
        "  #seuil pour distinguer l'avant-plan et l'arrière-plan\n",
        "  #utiliser le seuillage otsu \n",
        "  global_thresh_v1 = threshold_otsu(blurred_image_v1)\n",
        "  global_thresh_d2 = threshold_otsu(blurred_image_d2)\n",
        "\n",
        "  #création d'une image binaire grâce à une bonne valeur du seuil\n",
        "  binary_global_v1 = blurred_image_v1 < global_thresh_v1\n",
        "  binary_global_d2 = blurred_image_d2 < global_thresh_d2\n",
        "\n",
        "  all_binary = [binary_global_v1, binary_global_d2]\n",
        "\n",
        "  new_data_v1 = np.vectorize(boolstr_to_floatstr)(all_binary[0]).astype(int)\n",
        "  new_data_d2 = np.vectorize(boolstr_to_floatstr)(all_binary[1]).astype(int)\n",
        "\n",
        "  new_data = [new_data_v1, new_data_d2]\n",
        "  derivations_finales = np.concatenate((new_data[0], new_data[1]), axis=1)\n",
        "  return derivations_finales\n",
        "\n"
      ],
      "metadata": {
        "colab": {
          "base_uri": "https://localhost:8080/"
        },
        "id": "Oulyv5GKQ2KC",
        "outputId": "475acb66-1ff7-458a-f068-6b5bc5a40eed"
      },
      "execution_count": null,
      "outputs": [
        {
          "output_type": "stream",
          "name": "stdout",
          "text": [
            "Reading package lists... Done\n",
            "Building dependency tree       \n",
            "Reading state information... Done\n",
            "poppler-utils is already the newest version (0.62.0-2ubuntu2.14).\n",
            "The following package was automatically installed and is no longer required:\n",
            "  libnvidia-common-460\n",
            "Use 'apt autoremove' to remove it.\n",
            "0 upgraded, 0 newly installed, 0 to remove and 20 not upgraded.\n"
          ]
        }
      ]
    },
    {
      "cell_type": "code",
      "source": [
        "# Visualisons \n",
        "# Importer notre drive\n",
        "from google.colab import drive\n",
        "drive.mount('/content/drive')\n",
        "\n",
        "# Récupération du fichier ECG\n",
        "path = \"/content/drive/MyDrive/aziz.jpg\"\n",
        "ecg = cv.imread(path)\n",
        "\n",
        "v1_d2 = preprocessing_ecg(ecg)\n",
        "\n",
        "#Image finale\n",
        "plt.imshow(v1_d2, cmap=\"gray\");"
      ],
      "metadata": {
        "colab": {
          "base_uri": "https://localhost:8080/",
          "height": 122
        },
        "id": "fcSdbr3qSU_v",
        "outputId": "51c3616a-d7ec-4ac0-94a3-6c714d48a6ff"
      },
      "execution_count": null,
      "outputs": [
        {
          "output_type": "stream",
          "name": "stdout",
          "text": [
            "Drive already mounted at /content/drive; to attempt to forcibly remount, call drive.mount(\"/content/drive\", force_remount=True).\n"
          ]
        },
        {
          "output_type": "display_data",
          "data": {
            "text/plain": [
              "<Figure size 432x288 with 1 Axes>"
            ],
            "image/png": "[encoded data removed]"
          },
          "metadata": {
            "needs_background": "light"
          }
        }
      ]
    },
    {
      "cell_type": "code",
      "source": [
        "v1_d2.shape[1]"
      ],
      "metadata": {
        "colab": {
          "base_uri": "https://localhost:8080/"
        },
        "id": "GRyntgCxrTMU",
        "outputId": "1e3ebe11-1167-4796-9e53-553f2fc0ab76"
      },
      "execution_count": null,
      "outputs": [
        {
          "output_type": "execute_result",
          "data": {
            "text/plain": [
              "1400"
            ]
          },
          "metadata": {},
          "execution_count": 39
        }
      ]
    },
    {
      "cell_type": "code",
      "source": [],
      "metadata": {
        "id": "00ki1M5frWGC"
      },
      "execution_count": null,
      "outputs": []
    }
  ]
}